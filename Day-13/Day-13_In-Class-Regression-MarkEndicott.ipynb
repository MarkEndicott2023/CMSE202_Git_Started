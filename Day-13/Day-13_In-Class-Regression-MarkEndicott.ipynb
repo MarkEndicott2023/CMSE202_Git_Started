{
 "cells": [
  {
   "cell_type": "markdown",
   "metadata": {},
   "source": [
    "# In-Class Assignment: Linear Regression\n",
    "# Day 13\n",
    "# CMSE 202\n",
    "\n",
    "### <p style=\"text-align: right;\"> &#9989; **Mark Endicott** </p>\n",
    "#### <p style=\"text-align: right;\"> &#9989; Jess</p>\n",
    "\n",
    "\n",
    "<img src=\"https://imgs.xkcd.com/comics/extrapolating.png\" width=400px>"
   ]
  },
  {
   "cell_type": "markdown",
   "metadata": {},
   "source": [
    "---\n",
    "### Goals for today\n",
    "\n",
    "After this assignment, you will be able to:\n",
    "* plot a distribution of data\n",
    "* construct and visualize the correlations between different variables in a data set\n",
    "* use `statsmodels` to perform a linear regression \n",
    "* interpret the quality of the linear fit\n",
    "* perform a linear regression from scratch\n",
    "\n",
    "### Agenda for today's class:\n",
    "\n",
    "1. [Exploring unfamiliar data](#explore)\n",
    "1. [Linear regression](#regression)\n",
    "1. [Are we justified in using linear regression?](#justification)\n",
    "1. [Building the fit from scratch](#scratch)"
   ]
  },
  {
   "cell_type": "markdown",
   "metadata": {},
   "source": [
    "---\n",
    "## Part 0: Revisiting Git"
   ]
  },
  {
   "cell_type": "markdown",
   "metadata": {},
   "source": [
    "It's been a while since we have practiced with git. So,the agenda of this section is to revisit the concepts of Git by creating a new folder inside the cmse202-s24-turnin repository called Day-13 and adding this notebook.\n",
    "\n",
    "So, for this ICA try:\n",
    "\n",
    "1. Navigate to your cmse202-s24-turnin local repository.\n",
    "2. Create a new directory called Day-13.\n",
    "3. Add the ICA notebook into the new directory.\n",
    "4. Commit the changes\n",
    "5. Finally, push your changes to Github.\n"
   ]
  },
  {
   "cell_type": "markdown",
   "metadata": {},
   "source": [
    "---\n",
    "<a id=\"explore\"></a>\n",
    "## 1. Exploring unfamiliar data \n",
    "\n",
    "Abalone are a class of marine snails that create a shell of \"nacre\" of increasing thickness over the course of their lifetime. A very good indication of the age of a particular abalone is the number of \"rings\" of nacre that have been deposited in the creation of the shell. We are going to look at a data set that is used to estimate the number of rings of a particular abalone shell based on various other abalone characteristics.\n",
    "\n",
    "On the course supplemental data repository, there are two files you'll need for this assignment. The first is `Dataset.data` which contains 4177 individual abalone measurements. The second is `Dataset.spec` which contains the labels for the 9 columns. \n",
    "\n",
    "Note a couple of things:\n",
    "* The values in the data file are *space separated*. You should be able to load this data using Pandas.\n",
    "* The first column is categorical (non-numeric) data. You can ignore it going forward.\n",
    "* The final column, the count of `rings`, is the **dependent variable** that we will use.\n",
    "\n",
    "**&#9989; Do This:**  To get started, **you'll need to download the following two files**:\n",
    "\n",
    "`https://raw.githubusercontent.com/msu-cmse-courses/cmse202-supplemental-data/main/data/Dataset.data`\n",
    "\n",
    "`https://raw.githubusercontent.com/msu-cmse-courses/cmse202-supplemental-data/main/data/Dataset.spec`"
   ]
  },
  {
   "cell_type": "code",
   "execution_count": 1,
   "metadata": {},
   "outputs": [
    {
     "name": "stdout",
     "output_type": "stream",
     "text": [
      "  % Total    % Received % Xferd  Average Speed   Time    Time     Time  Current\n",
      "                                 Dload  Upload   Total   Spent    Left  Speed\n",
      "100  187k  100  187k    0     0  1981k      0 --:--:-- --:--:-- --:--:-- 1993k\n",
      "  % Total    % Received % Xferd  Average Speed   Time    Time     Time  Current\n",
      "                                 Dload  Upload   Total   Spent    Left  Speed\n",
      "100  1836  100  1836    0     0  28744      0 --:--:-- --:--:-- --:--:-- 29142\n"
     ]
    }
   ],
   "source": [
    "!curl -O https://raw.githubusercontent.com/msu-cmse-courses/cmse202-supplemental-data/main/data/Dataset.data\n",
    "!curl -O https://raw.githubusercontent.com/msu-cmse-courses/cmse202-supplemental-data/main/data/Dataset.spec"
   ]
  },
  {
   "cell_type": "markdown",
   "metadata": {},
   "source": [
    "### 1.1 Loading and describing the data\n",
    "\n",
    "**&#9989; Do This:** Using `pandas`, load the data from the data file. Then, calculate and display the following concerning the `rings` data of the samples:\n",
    "* the max\n",
    "* the min\n",
    "* the mean\n",
    "* the median\n",
    "* a histogram (using any tool you like) of the distribution of `rings` values\n",
    "\n",
    "There's more than one way to do this -- you should discuss ideas for how to do with with your group!"
   ]
  },
  {
   "cell_type": "code",
   "execution_count": 7,
   "metadata": {},
   "outputs": [
    {
     "name": "stdout",
     "output_type": "stream",
     "text": [
      "/home/endicot4/CMSE202/notebooks/cmse202-f24-turnin/Day-13\n"
     ]
    }
   ],
   "source": [
    "# !ls\n",
    "%cd Day-13/"
   ]
  },
  {
   "cell_type": "code",
   "execution_count": 40,
   "metadata": {},
   "outputs": [
    {
     "data": {
      "text/html": [
       "<div>\n",
       "<style scoped>\n",
       "    .dataframe tbody tr th:only-of-type {\n",
       "        vertical-align: middle;\n",
       "    }\n",
       "\n",
       "    .dataframe tbody tr th {\n",
       "        vertical-align: top;\n",
       "    }\n",
       "\n",
       "    .dataframe thead th {\n",
       "        text-align: right;\n",
       "    }\n",
       "</style>\n",
       "<table border=\"1\" class=\"dataframe\">\n",
       "  <thead>\n",
       "    <tr style=\"text-align: right;\">\n",
       "      <th></th>\n",
       "      <th>sex</th>\n",
       "      <th>length</th>\n",
       "      <th>diameter</th>\n",
       "      <th>height</th>\n",
       "      <th>whole_weight</th>\n",
       "      <th>shucked_weight</th>\n",
       "      <th>viscera_weight</th>\n",
       "      <th>shell_weight</th>\n",
       "      <th>rings</th>\n",
       "    </tr>\n",
       "  </thead>\n",
       "  <tbody>\n",
       "    <tr>\n",
       "      <th>0</th>\n",
       "      <td>M</td>\n",
       "      <td>0.455</td>\n",
       "      <td>0.365</td>\n",
       "      <td>0.095</td>\n",
       "      <td>0.5140</td>\n",
       "      <td>0.2245</td>\n",
       "      <td>0.1010</td>\n",
       "      <td>0.150</td>\n",
       "      <td>15</td>\n",
       "    </tr>\n",
       "    <tr>\n",
       "      <th>1</th>\n",
       "      <td>M</td>\n",
       "      <td>0.350</td>\n",
       "      <td>0.265</td>\n",
       "      <td>0.090</td>\n",
       "      <td>0.2255</td>\n",
       "      <td>0.0995</td>\n",
       "      <td>0.0485</td>\n",
       "      <td>0.070</td>\n",
       "      <td>7</td>\n",
       "    </tr>\n",
       "    <tr>\n",
       "      <th>2</th>\n",
       "      <td>F</td>\n",
       "      <td>0.530</td>\n",
       "      <td>0.420</td>\n",
       "      <td>0.135</td>\n",
       "      <td>0.6770</td>\n",
       "      <td>0.2565</td>\n",
       "      <td>0.1415</td>\n",
       "      <td>0.210</td>\n",
       "      <td>9</td>\n",
       "    </tr>\n",
       "    <tr>\n",
       "      <th>3</th>\n",
       "      <td>M</td>\n",
       "      <td>0.440</td>\n",
       "      <td>0.365</td>\n",
       "      <td>0.125</td>\n",
       "      <td>0.5160</td>\n",
       "      <td>0.2155</td>\n",
       "      <td>0.1140</td>\n",
       "      <td>0.155</td>\n",
       "      <td>10</td>\n",
       "    </tr>\n",
       "    <tr>\n",
       "      <th>4</th>\n",
       "      <td>I</td>\n",
       "      <td>0.330</td>\n",
       "      <td>0.255</td>\n",
       "      <td>0.080</td>\n",
       "      <td>0.2050</td>\n",
       "      <td>0.0895</td>\n",
       "      <td>0.0395</td>\n",
       "      <td>0.055</td>\n",
       "      <td>7</td>\n",
       "    </tr>\n",
       "  </tbody>\n",
       "</table>\n",
       "</div>"
      ],
      "text/plain": [
       "  sex  length  diameter  height  whole_weight  shucked_weight  viscera_weight  \\\n",
       "0   M   0.455     0.365   0.095        0.5140          0.2245          0.1010   \n",
       "1   M   0.350     0.265   0.090        0.2255          0.0995          0.0485   \n",
       "2   F   0.530     0.420   0.135        0.6770          0.2565          0.1415   \n",
       "3   M   0.440     0.365   0.125        0.5160          0.2155          0.1140   \n",
       "4   I   0.330     0.255   0.080        0.2050          0.0895          0.0395   \n",
       "\n",
       "   shell_weight  rings  \n",
       "0         0.150     15  \n",
       "1         0.070      7  \n",
       "2         0.210      9  \n",
       "3         0.155     10  \n",
       "4         0.055      7  "
      ]
     },
     "execution_count": 40,
     "metadata": {},
     "output_type": "execute_result"
    }
   ],
   "source": [
    "# put your code here\n",
    "import matplotlib.pyplot as plt\n",
    "import pandas as pd\n",
    "import seaborn as sns\n",
    "import numpy as np\n",
    "\n",
    "sns.set_context(\"notebook\")\n",
    "\n",
    "df = pd.read_csv(\"Dataset.data\", delimiter = \" \", header = None)\n",
    "\n",
    "df.columns = [\n",
    "    \"sex\",                # Gender or Infant (I)\n",
    "    \"length\",             # Longest shell measurement (mm)\n",
    "    \"diameter\",           # Perpendicular to length (mm)\n",
    "    \"height\",             # With meat in shell (mm)\n",
    "    \"whole_weight\",       # Whole abalone (gr)\n",
    "    \"shucked_weight\",     # Weight of meat (gr)\n",
    "    \"viscera_weight\",     # Gut weight (after bleeding) (gr)\n",
    "    \"shell_weight\",       # After being dried (gr)\n",
    "    \"rings\"\n",
    "]\n",
    "\n",
    "df.describe()\n",
    "df.head()\n",
    "\n",
    "# df.hist();"
   ]
  },
  {
   "cell_type": "markdown",
   "metadata": {},
   "source": [
    "### 1.2 - Looking at correlations between variables in your data\n",
    "\n",
    "Let's make a [correlation](https://en.wikipedia.org/wiki/Correlation_and_dependence) matrix of the variables in the abalone dataset and plot it as a heat map. \n",
    "\n",
    "A `pandas` DataFrame has a built-in method that can provide a correlation matrix of the variables in the frame. The values show up as a matrix where the rows and columns are the column headers. The value in each cell is the correlation of that pair of values. The correlation values range from -1 to 1. \n",
    "* A correlation of 1 means that the two data elements are _perfectly_ positively correlated. As one goes up, so does the other in exact agreement. \n",
    "* A value of -1 means that as one goes up, the other goes down in exact agreement; this is _perfectly_ negatively correlated.\n",
    "* A correlation value of 0 means there is no correlation. \n",
    "* Anything in between -1 and 1 gives the degree to which there is a positive or negative correlation between two variables.\n",
    "The diagonal of the matrix is all ones since that the correlation of the column with itself.\n",
    "\n",
    "**What is the `pandas` the method for producing a correlation matrix for a DataFrame?** \n",
    "\n",
    "**&#9989; Do This:** Calculate and display the correlation matrix associated with your data. NOTE: Depending on your numpy version, this step might initially give you an error. If this is the case, remove the sex column from the dataframe."
   ]
  },
  {
   "cell_type": "code",
   "execution_count": 44,
   "metadata": {},
   "outputs": [
    {
     "name": "stdout",
     "output_type": "stream",
     "text": [
      "                  length  diameter    height  whole_weight  shucked_weight  \\\n",
      "length          1.000000  0.986812  0.827554      0.925261        0.897914   \n",
      "diameter        0.986812  1.000000  0.833684      0.925452        0.893162   \n",
      "height          0.827554  0.833684  1.000000      0.819221        0.774972   \n",
      "whole_weight    0.925261  0.925452  0.819221      1.000000        0.969405   \n",
      "shucked_weight  0.897914  0.893162  0.774972      0.969405        1.000000   \n",
      "viscera_weight  0.903018  0.899724  0.798319      0.966375        0.931961   \n",
      "shell_weight    0.897706  0.905330  0.817338      0.955355        0.882617   \n",
      "rings           0.556720  0.574660  0.557467      0.540390        0.420884   \n",
      "\n",
      "                viscera_weight  shell_weight     rings  \n",
      "length                0.903018      0.897706  0.556720  \n",
      "diameter              0.899724      0.905330  0.574660  \n",
      "height                0.798319      0.817338  0.557467  \n",
      "whole_weight          0.966375      0.955355  0.540390  \n",
      "shucked_weight        0.931961      0.882617  0.420884  \n",
      "viscera_weight        1.000000      0.907656  0.503819  \n",
      "shell_weight          0.907656      1.000000  0.627574  \n",
      "rings                 0.503819      0.627574  1.000000  \n"
     ]
    }
   ],
   "source": [
    "import pandas as pd\n",
    "\n",
    "num_df = df.select_dtypes(include = [\"number\"])\n",
    "\n",
    "corr_matrix = num_df.corr()\n",
    "\n",
    "print(corr_matrix)"
   ]
  },
  {
   "cell_type": "markdown",
   "metadata": {},
   "source": [
    "**&#9989; Questions:** What do you notice? Can you find variables that correlate strongly with the number of rings? What might make finding these variables this easier?"
   ]
  },
  {
   "cell_type": "markdown",
   "metadata": {
    "tags": []
   },
   "source": [
    "**Along the bottom of the correlation matrix, there are generally positive correlations for all other variables with rings. However a visual model can help us find how strong relative to other variable combinations.**"
   ]
  },
  {
   "cell_type": "markdown",
   "metadata": {},
   "source": [
    "The tools `seaborn` is useful for visualization. You can display a [heatmap](https://seaborn.pydata.org/generated/seaborn.heatmap.html), a color for each cell, of a correlation matrix. It gives a visual clue as to what data elements are correlated.\n",
    "\n",
    "**&#9989; Do this:** Generate a heatmap for the correlation matrix from above and plot it onto the given figure and axis."
   ]
  },
  {
   "cell_type": "code",
   "execution_count": 48,
   "metadata": {},
   "outputs": [
    {
     "data": {
      "image/png": "[encoded data removed]",
      "text/plain": [
       "<Figure size 1000x1000 with 2 Axes>"
      ]
     },
     "metadata": {},
     "output_type": "display_data"
    }
   ],
   "source": [
    "fig, ax = plt.subplots(1,1, figsize = (10,10) )\n",
    "\n",
    "sns.heatmap(corr_matrix);\n"
   ]
  },
  {
   "cell_type": "markdown",
   "metadata": {},
   "source": [
    "**&#9989; Questions:** What do you notice? Can you find variables that correlate strongly with the number of rings and do the agree with what you found by examining the correlation matrix? What makes this a better representation of your data than simply the matrix above?"
   ]
  },
  {
   "cell_type": "markdown",
   "metadata": {},
   "source": [
    "**The heat map provides a more intuitive visual for the correlations with clearly defined colors distinguishing the best from worst. For rings, each variable combination is very similar in color, indicating marginal differences in correlational value.**"
   ]
  },
  {
   "cell_type": "markdown",
   "metadata": {},
   "source": [
    "---\n",
    "<a id=\"regression\"></a>\n",
    "## 2. Linear Regression\n",
    "\n",
    "Looking at our heatmap, select the independent variable that has the best correlation with the dependent variable `rings`.\n",
    "\n",
    "**&#9989; Do this:** Write in the cell below what variable you will work with below."
   ]
  },
  {
   "cell_type": "markdown",
   "metadata": {},
   "source": [
    "**Rings and shell_weight**"
   ]
  },
  {
   "cell_type": "markdown",
   "metadata": {},
   "source": [
    "### 2.1 Perform the regression using `statsmodels`\n",
    "\n",
    "Having selected an independent variable, let us do a linear regression using your selected variable (let's just call it `x`) and the `rings` variable (let's just call that `y`). Using what you reviewed in your pre-class assignment, we'll used `statsmodels` for this. \n",
    "\n",
    "\n",
    "**&#9989; Do this:** Using `statsmodels`, perform a linear regression to predict the number of rings using the indepdent variable you selected. **Print the slope and the intercept for your model.**\n",
    "\n",
    "_Look to the pre-class assignment for some hints and check in with your group._"
   ]
  },
  {
   "cell_type": "code",
   "execution_count": null,
   "metadata": {},
   "outputs": [],
   "source": [
    "# put your code here\n"
   ]
  },
  {
   "cell_type": "markdown",
   "metadata": {},
   "source": [
    "### 2.2 Print statistics\n",
    "\n",
    "While this model has provided the slope and intercept for the fit, it has not suggested how well the model fits our data. Luckily, the results produced by the `fit()` method can provide a summary.\n",
    "\n",
    "**&#9989; Do this:** Print the statistics associated with your fit. Comment below that on how well the fit is for the data."
   ]
  },
  {
   "cell_type": "code",
   "execution_count": null,
   "metadata": {},
   "outputs": [],
   "source": [
    "# put your code here\n"
   ]
  },
  {
   "cell_type": "markdown",
   "metadata": {},
   "source": [
    "**&#9989; Do this:** Comment on the fit of your model. What are you using to judge the fit?"
   ]
  },
  {
   "cell_type": "markdown",
   "metadata": {},
   "source": [
    "<font size=+3>&#9998;</font> Do this - Erase this and put your answer here."
   ]
  },
  {
   "cell_type": "markdown",
   "metadata": {},
   "source": [
    "### 2.3 Visualizaton\n",
    "\n",
    "Mathematically, any data can be fit to a line. Whether a line is a good model to use to fit that data depends on a number of issues. Once of the more famous examples of data being fit to a line where that data has precisely the same fit, but wildly different data is [Anscombe's quartet](https://en.wikipedia.org/wiki/Anscombe%27s_quartet). The main figure is reproduced below:\n",
    "\n",
    "<img src=\"https://upload.wikimedia.org/wikipedia/commons/thumb/e/ec/Anscombe%27s_quartet_3.svg/500px-Anscombe%27s_quartet_3.svg.png\" width=500px>\n",
    "\n",
    "You can see that each data set is different, but the mathematical model that fits each of these data sets is the same! You must be careful that your data do not violate one or more of the [underlying assumptions of linear fitting](https://en.wikipedia.org/wiki/Linear_regression#Assumptions). This is one reason it is incredibly important to visualize your data and the model that fits it."
   ]
  },
  {
   "cell_type": "markdown",
   "metadata": {},
   "source": [
    "**&#9989; Question:** For the four plots above, which would you find believable? That is, which ones are reasonable fits to the data and why?"
   ]
  },
  {
   "cell_type": "markdown",
   "metadata": {},
   "source": [
    "<font size=+3>&#9998;</font> Do this - Erase this and put your answer here."
   ]
  },
  {
   "cell_type": "markdown",
   "metadata": {},
   "source": [
    "**&#9989; Do this:** Plot the scatter plot of your independent and dependent data and also plot the line predicted by the regression."
   ]
  },
  {
   "cell_type": "code",
   "execution_count": null,
   "metadata": {},
   "outputs": [],
   "source": [
    "# put your code here\n"
   ]
  },
  {
   "cell_type": "markdown",
   "metadata": {},
   "source": [
    "**&#9989; Do this:** How well does your model fit your data? Look back at the measure you used to judge the fit initially, what more information do you gain from plotting the data and the fit? Would you say that you had a good model of your data? What might make your model better?"
   ]
  },
  {
   "cell_type": "markdown",
   "metadata": {},
   "source": [
    "<font size=+3>&#9998;</font> Do this - Erase this and put your answer here."
   ]
  },
  {
   "cell_type": "markdown",
   "metadata": {},
   "source": [
    "_Thinking carefully about what model we use to fit data is important, as is how we judge the quality of our models and the fits we come up with. We'll have more opportunities to discuss this in future assignments as well._"
   ]
  },
  {
   "cell_type": "markdown",
   "metadata": {},
   "source": [
    "---\n",
    "<a id=\"justification\"></a>\n",
    "## 3. Are we justified in using linear regression?\n",
    "\n",
    "One of the critical assumptions of linear regression is that of [\"constant variance\"](https://en.wikipedia.org/wiki/Linear_regression#Assumptions). This means that the different values of the dependent variable have the same variance in their errors, regardless of the value of the independent variable. This is typically checked using a residual plot, which is available using `plot_regress_exog`. If the distribution of residuals (a proxy for the errors) is evenly distributed, we can feel more confident that we were justfied is using linear regression.\n",
    "\n",
    "**&#9989; Do this:** Use `plot_regress_exog` to investigate the distribution of residuals in your model fit. Make sure to create a large enough figure so that everything is easily visible\n"
   ]
  },
  {
   "cell_type": "code",
   "execution_count": null,
   "metadata": {},
   "outputs": [],
   "source": [
    "# put your code here\n",
    "fig = plt.figure(figsize= ??? )\n"
   ]
  },
  {
   "cell_type": "markdown",
   "metadata": {},
   "source": [
    "**&#9989; Questions:** Does it appear you were justfied in using linear regression? Why or why not? _If it helps, you might look back at the same plot you made for the `noisy` data in the pre-class assignment._"
   ]
  },
  {
   "cell_type": "markdown",
   "metadata": {},
   "source": [
    "<font size=+3>&#9998;</font> Do this - Erase this and put your answer here."
   ]
  },
  {
   "cell_type": "markdown",
   "metadata": {},
   "source": [
    "**&#9989; Questions:**  You might also be able to tell if your linear model overpredicts or underpredicts the number of rings with this model for certain values of your independent variable. Can you? If so, does it over/under-predict?"
   ]
  },
  {
   "cell_type": "markdown",
   "metadata": {},
   "source": [
    "<font size=+3>&#9998;</font> Do this - Erase this and put your answer here."
   ]
  },
  {
   "cell_type": "markdown",
   "metadata": {},
   "source": [
    "---\n",
    "<a id=\"scratch\"></a>\n",
    "## 4. Building the fit from scratch\n",
    "\n",
    "The `statsmodels` library is quite powerful and has a number of tools that we will use to fit data. But in the simplest fit it can do, a linear model of one variable, what is the library doing? You will perform the calculations yourself below to try construct the same fit to your data.\n",
    "\n",
    "\n",
    "### 4.1 Performing a Least Squares fit\n",
    "\n",
    "Let's do some of that work ourselves to see if we can reproduce those results. We are going do the math for linear regression ourselves and see if our math agrees with the tools we used above. Below is the math. We'll use the same independent and dependent variables that you chose above.\n",
    "\n",
    "Let's assume that the symbols $\\bar{x}$ and $\\bar{y}$ represent the means of those arrays and that `n` is the number of elements.\n",
    "\n",
    "Here's the calculation for the slope for a single variable linear model:\n",
    "$$ slope = \\frac {\\sum_{i=1}^{n}{(x_i - \\bar{x}) * (y_i - \\bar{y}) } } {\\sum_{i=1}^{n}{(x_i - \\bar{x})^2}}$$\n",
    "\n",
    "Here's the calculation for the intercept for a single variable linear model:\n",
    "$$ intercept = \\bar{y} - slope*\\bar{x} $$"
   ]
  },
  {
   "cell_type": "markdown",
   "metadata": {},
   "source": [
    "**&#9989; Do this:** Using the same independent variable and the same dependent variable as above, calculate the slope and intercept of the best fit least squares using the formula provided. Print the slope and the intercept."
   ]
  },
  {
   "cell_type": "code",
   "execution_count": null,
   "metadata": {},
   "outputs": [],
   "source": [
    "# put your code here\n"
   ]
  },
  {
   "cell_type": "markdown",
   "metadata": {},
   "source": [
    "**&#9989; Question:** How well do your slope and intercept agree with the results from `statsmodels`?"
   ]
  },
  {
   "cell_type": "markdown",
   "metadata": {},
   "source": [
    "<font size=+3>&#9998;</font> Do this - Erase this and put your answer here."
   ]
  },
  {
   "cell_type": "markdown",
   "metadata": {},
   "source": [
    "**&#9989; Do this:**  Plot the same scatter plot for your data you used above and plot the new regression line through that data using your **calculated slope and intercept**."
   ]
  },
  {
   "cell_type": "code",
   "execution_count": null,
   "metadata": {},
   "outputs": [],
   "source": [
    "# put your code here\n"
   ]
  },
  {
   "cell_type": "markdown",
   "metadata": {},
   "source": [
    "### 4.2 Coefficient of Determination and Mean-Squared Error\n",
    "\n",
    "We will now calculated the [coefficient of determination ($R^2$)](https://en.wikipedia.org/wiki/Coefficient_of_determination) and the mean-squared error (MSE). These results are also produced by `statsmodels` in its summary statistics.\n",
    "\n",
    "The coefficient of determination calculations are as follows:\n",
    "\n",
    "Total sum of squares is:\n",
    "$$ tsum = \\sum_{i=1}^{n}{(y_i - \\bar{y})^{2}} $$\n",
    "\n",
    "The sum of the squares of the residuals (also called the residual sum of squares) is:\n",
    "$$ residual = \\sum_{i=1}^{n}{(y_i - y_{predicted})}^{2} $$\n",
    "\n",
    "Mean-squared error is just $$ MSE = \\frac{1}{n} * residual$$ or $$ MSE = \\frac{1}{n}\\sum_{i=1}^{n}{(y_i - y_{predicted})}^{2} $$\n",
    "\n",
    "The coefficient of determination ($R^2$) is:\n",
    "$$ cod = R^2 =  1 - \\frac{residual}{tsum} $$\n",
    "\n",
    "**&#9989; Do this:**  Using the same data you used above, develop a new array `y_predict`  based on your **calculated slope and intercept**. Provide the coefficient of determination and mean-squared error of your calculated regression model."
   ]
  },
  {
   "cell_type": "code",
   "execution_count": null,
   "metadata": {},
   "outputs": [],
   "source": [
    "# put your code here\n"
   ]
  },
  {
   "cell_type": "markdown",
   "metadata": {},
   "source": [
    "**&#9989; Question:** How well do your results agree with the results from `statsmodels`?"
   ]
  },
  {
   "cell_type": "markdown",
   "metadata": {},
   "source": [
    "<font size=+3>&#9998;</font> Do this - Erase this and put your answer here."
   ]
  },
  {
   "cell_type": "markdown",
   "metadata": {},
   "source": [
    "-----\n",
    "### Congratulations, you're done with your in-class assignment!\n",
    "\n",
    "Now, you just need to submit this assignment by uploading it to the course <a href=\"https://d2l.msu.edu/\">Desire2Learn</a> web page for today's submission folder (Don't forget to add your names in the first cell)."
   ]
  },
  {
   "cell_type": "markdown",
   "metadata": {},
   "source": [
    "&#169; Copyright 2024,  Department of Computational Mathematics, Science and Engineering at Michigan State University\n",
    "\n",
    "<!-- 9/16/2024 -->"
   ]
  },
  {
   "cell_type": "markdown",
   "metadata": {},
   "source": []
  }
 ],
 "metadata": {
  "kernelspec": {
   "display_name": "Python 3.11 (default)",
   "language": "python",
   "name": "python3"
  },
  "language_info": {
   "codemirror_mode": {
    "name": "ipython",
    "version": 3
   },
   "file_extension": ".py",
   "mimetype": "text/x-python",
   "name": "python",
   "nbconvert_exporter": "python",
   "pygments_lexer": "ipython3",
   "version": "3.11.9"
  },
  "widgets": {
   "application/vnd.jupyter.widget-state+json": {
    "state": {},
    "version_major": 2,
    "version_minor": 0
   }
  }
 },
 "nbformat": 4,
 "nbformat_minor": 4
}
